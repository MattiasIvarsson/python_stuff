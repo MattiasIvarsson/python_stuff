{
 "cells": [
  {
   "cell_type": "code",
   "execution_count": 157,
   "id": "b6f28689",
   "metadata": {},
   "outputs": [],
   "source": [
    "\n",
    "\n",
    "\n",
    "def subset_sum(numbers, target, partial=[]):\n",
    "    s = sum(partial)\n",
    "\n",
    "    # check if the partial sum is equals to target\n",
    "    if s == target: \n",
    "        ##print (s)\n",
    "        print(partial)\n",
    "        print(target)\n",
    "    if s >= target:\n",
    "        return  # if we reach the number why bother to continue\n",
    "    \n",
    "    for i in range(len(numbers)):\n",
    "        n = numbers[i]\n",
    "        remaining = numbers[i+1:]\n",
    "        subset_sum(remaining, target, partial + [n]) \n",
    "   \n",
    "\n",
    "\n"
   ]
  },
  {
   "cell_type": "code",
   "execution_count": 167,
   "id": "0772c352",
   "metadata": {},
   "outputs": [],
   "source": [
    "#list_numbers = [3,9,8,4,5,7,10,1,1,1,20]\n",
    "target_number =   238292 ##96795 \n",
    " \n",
    "list_numbers = [\n",
    "52617,\n",
    "185675,\n",
    "-141497,\n",
    "]\n",
    "    \n"
   ]
  },
  {
   "cell_type": "code",
   "execution_count": 168,
   "id": "551b30f0",
   "metadata": {
    "scrolled": true
   },
   "outputs": [
    {
     "name": "stdout",
     "output_type": "stream",
     "text": [
      "[52617, 185675]\n",
      "238292\n"
     ]
    }
   ],
   "source": [
    "subset_sum(list_numbers,target_number)\n"
   ]
  },
  {
   "cell_type": "code",
   "execution_count": null,
   "id": "7869393d",
   "metadata": {},
   "outputs": [],
   "source": []
  }
 ],
 "metadata": {
  "kernelspec": {
   "display_name": "Python 3 (ipykernel)",
   "language": "python",
   "name": "python3"
  },
  "language_info": {
   "codemirror_mode": {
    "name": "ipython",
    "version": 3
   },
   "file_extension": ".py",
   "mimetype": "text/x-python",
   "name": "python",
   "nbconvert_exporter": "python",
   "pygments_lexer": "ipython3",
   "version": "3.9.7"
  }
 },
 "nbformat": 4,
 "nbformat_minor": 5
}
