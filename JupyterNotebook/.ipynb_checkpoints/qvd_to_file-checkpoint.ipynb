{
 "cells": [
  {
   "cell_type": "code",
   "execution_count": null,
   "id": "329b5bb3",
   "metadata": {},
   "outputs": [],
   "source": [
    "source_path = 'C:\\Projekt\\Qlik\\QVD\\\\'\n",
    "destination_path = 'C:\\Projekt\\Python\\PythonExport\\\\'"
   ]
  },
  {
   "cell_type": "code",
   "execution_count": 2,
   "id": "916917ff",
   "metadata": {},
   "outputs": [],
   "source": [
    "def create_csv_file (destination_folder,file_name,data):\n",
    "    csv_file_name = file_name.replace('.qvd','.csv')\n",
    "    csv_file_destination = destination_path + '\\CSV\\\\' + csv_file_name      \n",
    "    \n",
    "    #print('')\n",
    "    print(f'   Output || CSV:  {csv_file_name:20} | Destination: {csv_file_destination}')\n",
    "\n",
    "    #Export csv to destination\n",
    "    data.to_csv(csv_file_destination, index=False)\n",
    "    \n"
   ]
  },
  {
   "cell_type": "code",
   "execution_count": 3,
   "id": "7c343130",
   "metadata": {},
   "outputs": [],
   "source": [
    "def create_json_file (destination_folder,file_name,data):\n",
    "    json_file_name = file_name.replace('.qvd','.json')\n",
    "    json_file_destination = destination_path + '\\JSON\\\\' + json_file_name      \n",
    "    \n",
    "    #print('')\n",
    "    print(f'   Output || JSON: {json_file_name:20} | Destination: {json_file_destination}')\n",
    "\n",
    "    #Export csv to destination\n",
    "    data.to_json(json_file_destination, orient='records')\n"
   ]
  },
  {
   "cell_type": "code",
   "execution_count": 4,
   "id": "243c78cf",
   "metadata": {},
   "outputs": [
    {
     "name": "stdout",
     "output_type": "stream",
     "text": [
      " START - QVD TO FILE\n",
      "________________________________________________\n",
      "\n",
      "1. Input  || QVD:  D_Datum.qvd          | Source:      C:\\Projekt\\Qlik\\QVD\\D_Datum.qvd\n",
      "   Output || JSON: D_Datum.json         | Destination: C:\\Projekt\\Python\\PythonExport\\\\JSON\\D_Datum.json\n",
      "   Output || CSV:  D_Datum.csv          | Destination: C:\\Projekt\\Python\\PythonExport\\\\CSV\\D_Datum.csv\n",
      "________________________________________________\n",
      "\n",
      "2. Input  || QVD:  D_Tid.qvd            | Source:      C:\\Projekt\\Qlik\\QVD\\D_Tid.qvd\n",
      "   Output || JSON: D_Tid.json           | Destination: C:\\Projekt\\Python\\PythonExport\\\\JSON\\D_Tid.json\n",
      "   Output || CSV:  D_Tid.csv            | Destination: C:\\Projekt\\Python\\PythonExport\\\\CSV\\D_Tid.csv\n",
      "________________________________________________\n",
      "\n",
      "3. Input  || QVD:  F_BefolkningSCB.qvd  | Source:      C:\\Projekt\\Qlik\\QVD\\F_BefolkningSCB.qvd\n",
      "   Output || JSON: F_BefolkningSCB.json | Destination: C:\\Projekt\\Python\\PythonExport\\\\JSON\\F_BefolkningSCB.json\n",
      "   Output || CSV:  F_BefolkningSCB.csv  | Destination: C:\\Projekt\\Python\\PythonExport\\\\CSV\\F_BefolkningSCB.csv\n",
      "________________________________________________\n",
      "\n",
      " END - APP\n"
     ]
    }
   ],
   "source": [
    "from qvd import qvd_reader\n",
    "import os.path\n",
    "\n",
    "source_path = 'C:\\Projekt\\Qlik\\QVD\\\\'\n",
    "destination_path = 'C:\\Projekt\\Python\\PythonExport\\\\'\n",
    "\n",
    "print(f' START - QVD TO FILE')\n",
    "print('________________________________________________')\n",
    "print('')\n",
    "\n",
    "count = 0\n",
    "\n",
    "for file_name in os.listdir(source_path):\n",
    "    \n",
    "   \n",
    "    if os.path.isfile(os.path.join(source_path, file_name)):\n",
    "        qvd_file_name = source_path + file_name\n",
    "        \n",
    "        count = count + 1\n",
    "        print(f'{count}. Input  || QVD:  {file_name:20} | Source:      {qvd_file_name}')\n",
    "        qvd_file = qvd_reader.read(qvd_file_name)\n",
    "\n",
    "        \n",
    "        # TO JSON\n",
    "        create_json_file(destination_path,file_name,qvd_file)\n",
    "        \n",
    "        # TO CSV\n",
    "        create_csv_file(destination_path,file_name,qvd_file)\n",
    "       \n",
    "        print('________________________________________________')\n",
    "        print('')\n",
    "\n",
    "        \n",
    "print(f' END - APP')\n",
    "      \n",
    "\n",
    "        "
   ]
  },
  {
   "cell_type": "code",
   "execution_count": null,
   "id": "1b7babef",
   "metadata": {},
   "outputs": [],
   "source": [
    "# TO JSON\n",
    "\n"
   ]
  }
 ],
 "metadata": {
  "kernelspec": {
   "display_name": "Python 3 (ipykernel)",
   "language": "python",
   "name": "python3"
  },
  "language_info": {
   "codemirror_mode": {
    "name": "ipython",
    "version": 3
   },
   "file_extension": ".py",
   "mimetype": "text/x-python",
   "name": "python",
   "nbconvert_exporter": "python",
   "pygments_lexer": "ipython3",
   "version": "3.9.7"
  }
 },
 "nbformat": 4,
 "nbformat_minor": 5
}
